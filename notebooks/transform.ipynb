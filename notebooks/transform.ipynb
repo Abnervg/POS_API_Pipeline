{
 "cells": [
  {
   "cell_type": "markdown",
   "id": "cfc8dc7d",
   "metadata": {},
   "source": [
    "## Curate data"
   ]
  },
  {
   "cell_type": "markdown",
   "id": "fa6da2b0",
   "metadata": {},
   "source": [
    "#### Read json files"
   ]
  },
  {
   "cell_type": "code",
   "execution_count": 9,
   "id": "cc6565c7",
   "metadata": {},
   "outputs": [
    {
     "name": "stdout",
     "output_type": "stream",
     "text": [
      "→ Loading receipts from receipts_2025-07.json\n",
      "→ Loading items    from items_2025-07.json\n",
      "✅ Loaded 50 receipts, 23 items\n"
     ]
    }
   ],
   "source": [
    "import os\n",
    "import json\n",
    "from pathlib import Path\n",
    "import pandas as pd\n",
    "\n",
    "# Point to raw data folder\n",
    "repo_root = Path.cwd().parent if Path.cwd().name == \"notebooks\" else Path.cwd()\n",
    "raw_dir   = os.path.join(repo_root, \"data\", \"raw\")\n",
    "\n",
    "# List all files\n",
    "all_files = os.listdir(raw_dir)\n",
    "\n",
    "# Filter for receipts and items JSON\n",
    "receipt_files = [f for f in all_files if f.startswith(\"receipts_\") and f.endswith(\".json\")]\n",
    "item_files = [f for f in all_files if f.startswith(\"items_\") and f.endswith(\".json\")] \n",
    "\n",
    "# Validate\n",
    "if not receipt_files:\n",
    "    raise FileNotFoundError(f\"No receipts_*.json found in {raw_dir}\")\n",
    "if not item_files:\n",
    "    raise FileNotFoundError(f\"No items_*.json found in {raw_dir}\")\n",
    "\n",
    "#Read the files \n",
    "receipt_filename = receipt_files[0]\n",
    "item_filename    = item_files[0]\n",
    "\n",
    "receipt_path = os.path.join(raw_dir, receipt_filename)\n",
    "item_path    = os.path.join(raw_dir, item_filename)\n",
    "\n",
    "print(\"→ Loading receipts from\", receipt_filename)\n",
    "print(\"→ Loading items    from\", item_filename)\n",
    "\n",
    "# Load them (with UTF-8)\n",
    "with open(receipt_path, \"r\", encoding=\"utf-8\") as f:\n",
    "    receipts = json.load(f)\n",
    "\n",
    "with open(item_path, \"r\", encoding=\"utf-8\") as f:\n",
    "    items = json.load(f)\n",
    "\n",
    "print(f\"✅ Loaded {len(receipts)} receipts, {len(items)} items\")\n"
   ]
  },
  {
   "cell_type": "markdown",
   "id": "b0e30a76",
   "metadata": {},
   "source": [
    "#### Create table with desired content"
   ]
  },
  {
   "cell_type": "code",
   "execution_count": 22,
   "id": "dfb9a021",
   "metadata": {},
   "outputs": [
    {
     "name": "stdout",
     "output_type": "stream",
     "text": [
      "  receipt_number        date          time     order_type       item_name  \\\n",
      "0         1-1653  2025-07-13  03:52:35.000  A domicilio 1     Doble Smash   \n",
      "1         1-1652  2025-07-13  03:35:12.000         Mesa 1    Smash Burger   \n",
      "2         1-1652  2025-07-13  03:35:12.000         Mesa 1  Chicken Burger   \n",
      "3         1-1652  2025-07-13  03:35:12.000         Mesa 1       Coca Cola   \n",
      "4         1-1651  2025-07-13  03:34:22.000  A domicilio 1     Doble Smash   \n",
      "\n",
      "   cost  price                                          modifiers payment_type  \n",
      "0  69.0  125.0     Mayonesa(Ajo);Sin Ingredientes(Sin Pepinillos)         CASH  \n",
      "1  48.5  100.0  Sin Ingredientes(Sin Pepinillos);Mayonesa(Natu...         CASH  \n",
      "2  40.0   95.0                                 Mayonesa(Chipotle)         CASH  \n",
      "3  16.0   25.0                                               None         CASH  \n",
      "4  69.0  125.0                                      Mayonesa(Ajo)         CASH  \n"
     ]
    }
   ],
   "source": [
    "#Transform into a flat table\n",
    "rows = []\n",
    "for r in receipts:\n",
    "    date_time = r[\"receipt_date\"]\n",
    "    date, time_z = date_time.split(\"T\")\n",
    "    time = time_z.rstrip(\"Z\")\n",
    "    payment_types = \";\".join(p[\"type\"] for p in r.get(\"payments\", []))\n",
    "\n",
    "    for line in r.get(\"line_items\", []):\n",
    "        mods = \";\".join(f\"{m['name']}({m['option']})\"\n",
    "                        for m in line.get(\"line_modifiers\", [])) or None\n",
    "\n",
    "        rows.append({\n",
    "            \"receipt_number\": r[\"receipt_number\"],\n",
    "            \"date\":           date,\n",
    "            \"time\":           time,\n",
    "            \"order_type\":     r.get(\"order\"),\n",
    "            \"item_name\":      line.get(\"item_name\"),\n",
    "            \"cost\":           line.get(\"cost\"),\n",
    "            \"price\":          line.get(\"price\"),\n",
    "            \"modifiers\":      mods,\n",
    "            \"payment_type\":   payment_types\n",
    "        })\n",
    "\n",
    "df = pd.DataFrame(rows)\n",
    "print(df.head())"
   ]
  },
  {
   "cell_type": "markdown",
   "id": "87437cbd",
   "metadata": {},
   "source": [
    "### Quick analysis"
   ]
  },
  {
   "cell_type": "code",
   "execution_count": 32,
   "id": "d7dd3902",
   "metadata": {},
   "outputs": [
    {
     "data": {
      "text/html": [
       "<div>\n",
       "<style scoped>\n",
       "    .dataframe tbody tr th:only-of-type {\n",
       "        vertical-align: middle;\n",
       "    }\n",
       "\n",
       "    .dataframe tbody tr th {\n",
       "        vertical-align: top;\n",
       "    }\n",
       "\n",
       "    .dataframe thead th {\n",
       "        text-align: right;\n",
       "    }\n",
       "</style>\n",
       "<table border=\"1\" class=\"dataframe\">\n",
       "  <thead>\n",
       "    <tr style=\"text-align: right;\">\n",
       "      <th></th>\n",
       "      <th>receipt_number</th>\n",
       "      <th>date</th>\n",
       "      <th>time</th>\n",
       "      <th>order_type</th>\n",
       "      <th>item_name</th>\n",
       "      <th>cost</th>\n",
       "      <th>price</th>\n",
       "      <th>modifiers</th>\n",
       "      <th>payment_type</th>\n",
       "    </tr>\n",
       "  </thead>\n",
       "  <tbody>\n",
       "    <tr>\n",
       "      <th>0</th>\n",
       "      <td>1-1653</td>\n",
       "      <td>2025-07-13</td>\n",
       "      <td>03:52:35.000</td>\n",
       "      <td>A domicilio 1</td>\n",
       "      <td>Doble Smash</td>\n",
       "      <td>69.0</td>\n",
       "      <td>125.0</td>\n",
       "      <td>Mayonesa(Ajo);Sin Ingredientes(Sin Pepinillos)</td>\n",
       "      <td>CASH</td>\n",
       "    </tr>\n",
       "    <tr>\n",
       "      <th>1</th>\n",
       "      <td>1-1652</td>\n",
       "      <td>2025-07-13</td>\n",
       "      <td>03:35:12.000</td>\n",
       "      <td>Mesa 1</td>\n",
       "      <td>Smash Burger</td>\n",
       "      <td>48.5</td>\n",
       "      <td>100.0</td>\n",
       "      <td>Sin Ingredientes(Sin Pepinillos);Mayonesa(Natu...</td>\n",
       "      <td>CASH</td>\n",
       "    </tr>\n",
       "    <tr>\n",
       "      <th>2</th>\n",
       "      <td>1-1652</td>\n",
       "      <td>2025-07-13</td>\n",
       "      <td>03:35:12.000</td>\n",
       "      <td>Mesa 1</td>\n",
       "      <td>Chicken Burger</td>\n",
       "      <td>40.0</td>\n",
       "      <td>95.0</td>\n",
       "      <td>Mayonesa(Chipotle)</td>\n",
       "      <td>CASH</td>\n",
       "    </tr>\n",
       "    <tr>\n",
       "      <th>3</th>\n",
       "      <td>1-1652</td>\n",
       "      <td>2025-07-13</td>\n",
       "      <td>03:35:12.000</td>\n",
       "      <td>Mesa 1</td>\n",
       "      <td>Coca Cola</td>\n",
       "      <td>16.0</td>\n",
       "      <td>25.0</td>\n",
       "      <td>None</td>\n",
       "      <td>CASH</td>\n",
       "    </tr>\n",
       "    <tr>\n",
       "      <th>4</th>\n",
       "      <td>1-1651</td>\n",
       "      <td>2025-07-13</td>\n",
       "      <td>03:34:22.000</td>\n",
       "      <td>A domicilio 1</td>\n",
       "      <td>Doble Smash</td>\n",
       "      <td>69.0</td>\n",
       "      <td>125.0</td>\n",
       "      <td>Mayonesa(Ajo)</td>\n",
       "      <td>CASH</td>\n",
       "    </tr>\n",
       "  </tbody>\n",
       "</table>\n",
       "</div>"
      ],
      "text/plain": [
       "  receipt_number        date          time     order_type       item_name  \\\n",
       "0         1-1653  2025-07-13  03:52:35.000  A domicilio 1     Doble Smash   \n",
       "1         1-1652  2025-07-13  03:35:12.000         Mesa 1    Smash Burger   \n",
       "2         1-1652  2025-07-13  03:35:12.000         Mesa 1  Chicken Burger   \n",
       "3         1-1652  2025-07-13  03:35:12.000         Mesa 1       Coca Cola   \n",
       "4         1-1651  2025-07-13  03:34:22.000  A domicilio 1     Doble Smash   \n",
       "\n",
       "   cost  price                                          modifiers payment_type  \n",
       "0  69.0  125.0     Mayonesa(Ajo);Sin Ingredientes(Sin Pepinillos)         CASH  \n",
       "1  48.5  100.0  Sin Ingredientes(Sin Pepinillos);Mayonesa(Natu...         CASH  \n",
       "2  40.0   95.0                                 Mayonesa(Chipotle)         CASH  \n",
       "3  16.0   25.0                                               None         CASH  \n",
       "4  69.0  125.0                                      Mayonesa(Ajo)         CASH  "
      ]
     },
     "execution_count": 32,
     "metadata": {},
     "output_type": "execute_result"
    }
   ],
   "source": [
    "df.head()"
   ]
  },
  {
   "cell_type": "markdown",
   "id": "d201908c",
   "metadata": {},
   "source": [
    "### See all order_types"
   ]
  },
  {
   "cell_type": "code",
   "execution_count": 18,
   "id": "deffaf6b",
   "metadata": {},
   "outputs": [
    {
     "name": "stdout",
     "output_type": "stream",
     "text": [
      "['A domicilio 1' 'Mesa 1' 'Para Llevar 1' 'Mesa 3' 'Para Llevar 2'\n",
      " 'A domicilio 2' 'Mesa 4' '01-636' 'Mesa 2 - 1' 'Mesa 2 - 1 - 1' '01-624'\n",
      " '01-620' '01-619' 'Mesa 2' 'Mesa 5']\n"
     ]
    }
   ],
   "source": [
    "types = df[\"order_type\"].unique()\n",
    "print(types)"
   ]
  },
  {
   "cell_type": "markdown",
   "id": "153702ac",
   "metadata": {},
   "source": [
    "### Get a peak of whats in the non expected values"
   ]
  },
  {
   "cell_type": "code",
   "execution_count": 25,
   "id": "e494a70f",
   "metadata": {},
   "outputs": [
    {
     "data": {
      "text/html": [
       "<div>\n",
       "<style scoped>\n",
       "    .dataframe tbody tr th:only-of-type {\n",
       "        vertical-align: middle;\n",
       "    }\n",
       "\n",
       "    .dataframe tbody tr th {\n",
       "        vertical-align: top;\n",
       "    }\n",
       "\n",
       "    .dataframe thead th {\n",
       "        text-align: right;\n",
       "    }\n",
       "</style>\n",
       "<table border=\"1\" class=\"dataframe\">\n",
       "  <thead>\n",
       "    <tr style=\"text-align: right;\">\n",
       "      <th></th>\n",
       "      <th>receipt_number</th>\n",
       "      <th>date</th>\n",
       "      <th>time</th>\n",
       "      <th>order_type</th>\n",
       "      <th>item_name</th>\n",
       "      <th>cost</th>\n",
       "      <th>price</th>\n",
       "      <th>modifiers</th>\n",
       "      <th>payment_type</th>\n",
       "    </tr>\n",
       "  </thead>\n",
       "  <tbody>\n",
       "    <tr>\n",
       "      <th>88</th>\n",
       "      <td>1-1615</td>\n",
       "      <td>2025-07-09</td>\n",
       "      <td>01:28:49.000</td>\n",
       "      <td>01-619</td>\n",
       "      <td>Smash Burger</td>\n",
       "      <td>48.5</td>\n",
       "      <td>100.0</td>\n",
       "      <td>Mayonesa(Natural)</td>\n",
       "      <td>CASH</td>\n",
       "    </tr>\n",
       "  </tbody>\n",
       "</table>\n",
       "</div>"
      ],
      "text/plain": [
       "   receipt_number        date          time order_type     item_name  cost  \\\n",
       "88         1-1615  2025-07-09  01:28:49.000     01-619  Smash Burger  48.5   \n",
       "\n",
       "    price          modifiers payment_type  \n",
       "88  100.0  Mayonesa(Natural)         CASH  "
      ]
     },
     "execution_count": 25,
     "metadata": {},
     "output_type": "execute_result"
    }
   ],
   "source": [
    "non_expected = df[df[\"order_type\"] == \"01-619\"]\n",
    "non_expected.head()"
   ]
  },
  {
   "cell_type": "markdown",
   "id": "9adc7750",
   "metadata": {},
   "source": [
    "### Lets be sure the non expected values appears once for each receipt"
   ]
  },
  {
   "cell_type": "code",
   "execution_count": 33,
   "id": "927fd7d0",
   "metadata": {},
   "outputs": [
    {
     "name": "stdout",
     "output_type": "stream",
     "text": [
      "Series([], Name: order_type, dtype: int64)\n"
     ]
    }
   ],
   "source": [
    "import matplotlib.pyplot as plt\n",
    "order_item = df.groupby(\"receipt_number\")[\"order_type\"]\n",
    "\n",
    "unique_counts = order_item.nunique()\n",
    "\n",
    "nunique_counts = unique_counts[unique_counts > 1]\n",
    "print(nunique_counts)"
   ]
  },
  {
   "cell_type": "markdown",
   "id": "cc85bd38",
   "metadata": {},
   "source": [
    "### Lets clean this data"
   ]
  },
  {
   "cell_type": "code",
   "execution_count": null,
   "id": "94297cbf",
   "metadata": {},
   "outputs": [
    {
     "name": "stdout",
     "output_type": "stream",
     "text": [
      "Empty DataFrame\n",
      "Columns: [receipt_number, date, time, order_type, item_name, cost, price, modifiers, payment_type]\n",
      "Index: []\n"
     ]
    }
   ],
   "source": [
    "#Renames the numbered order_types\n",
    "cleaned_data = df.copy()\n",
    "condition = cleaned_data[\"order_type\"].str.contains(\"01\" ,na=False)\n",
    "\n",
    "cleaned_data.loc[condition, \"order_type\"] = \"Para Llevar\"\n",
    "\n",
    "#Renames the Mesa - order_type\n",
    "condition_mesa = cleaned_data[\"order_type\"].str.contains(\"-\" ,na=False)\n",
    "\n",
    "cleaned_data.loc[condition_mesa,\"order_type\"] = \"Mesa 2\"\n"
   ]
  },
  {
   "cell_type": "markdown",
   "id": "6606496e",
   "metadata": {},
   "source": [
    "#### Now lets homogenize the names"
   ]
  },
  {
   "cell_type": "code",
   "execution_count": 61,
   "id": "99159515",
   "metadata": {},
   "outputs": [],
   "source": [
    "#Homogenize by condition\n",
    "condition = cleaned_data[\"order_type\"].str.contains(\"domicilio\",na=False)\n",
    "cleaned_data.loc[condition,\"order_type\"] = \"A domicilio\"\n",
    "\n",
    "condition = cleaned_data[\"order_type\"].str.contains(\"Llevar\",na=False)\n",
    "cleaned_data.loc[condition,\"order_type\"] = \"Para llevar\""
   ]
  },
  {
   "cell_type": "code",
   "execution_count": 62,
   "id": "4f9e0e09",
   "metadata": {},
   "outputs": [
    {
     "data": {
      "text/plain": [
       "<Axes: xlabel='order_type'>"
      ]
     },
     "execution_count": 62,
     "metadata": {},
     "output_type": "execute_result"
    },
    {
     "data": {
      "image/png": "[encoded data removed]",
      "text/plain": [
       "<Figure size 640x480 with 1 Axes>"
      ]
     },
     "metadata": {},
     "output_type": "display_data"
    }
   ],
   "source": [
    "types = cleaned_data.groupby(\"order_type\")[\"item_name\"].count()\n",
    "\n",
    "types.plot(kind=\"bar\")"
   ]
  },
  {
   "cell_type": "markdown",
   "id": "59b74dd4",
   "metadata": {},
   "source": [
    "#### Finally lets give a more usable format to the timestamp"
   ]
  },
  {
   "cell_type": "code",
   "execution_count": 88,
   "id": "2683bbce",
   "metadata": {},
   "outputs": [
    {
     "ename": "TypeError",
     "evalue": "NDFrame.astype() missing 1 required positional argument: 'dtype'",
     "output_type": "error",
     "traceback": [
      "\u001b[1;31m---------------------------------------------------------------------------\u001b[0m",
      "\u001b[1;31mTypeError\u001b[0m                                 Traceback (most recent call last)",
      "Cell \u001b[1;32mIn[88], line 7\u001b[0m\n\u001b[0;32m      1\u001b[0m \u001b[38;5;66;03m# Lets classify timestamps by half hours\u001b[39;00m\n\u001b[0;32m      2\u001b[0m \n\u001b[0;32m      3\u001b[0m \u001b[38;5;66;03m# --- Main Logic ---\u001b[39;00m\n\u001b[0;32m      4\u001b[0m \n\u001b[0;32m      5\u001b[0m \u001b[38;5;66;03m# 1. Ensure the column is a proper time object)\u001b[39;00m\n\u001b[1;32m----> 7\u001b[0m cleaned_data[\u001b[38;5;124m'\u001b[39m\u001b[38;5;124mdatetime\u001b[39m\u001b[38;5;124m'\u001b[39m] \u001b[38;5;241m=\u001b[39m pd\u001b[38;5;241m.\u001b[39mto_datetime(df[\u001b[38;5;124m'\u001b[39m\u001b[38;5;124mdate\u001b[39m\u001b[38;5;124m'\u001b[39m]\u001b[38;5;241m.\u001b[39mastype(\u001b[38;5;28mstr\u001b[39m) \u001b[38;5;241m+\u001b[39m \u001b[38;5;124m'\u001b[39m\u001b[38;5;124m \u001b[39m\u001b[38;5;124m'\u001b[39m \u001b[38;5;241m+\u001b[39m \u001b[43mdf\u001b[49m\u001b[43m[\u001b[49m\u001b[38;5;124;43m'\u001b[39;49m\u001b[38;5;124;43mtime\u001b[39;49m\u001b[38;5;124;43m'\u001b[39;49m\u001b[43m]\u001b[49m\u001b[38;5;241;43m.\u001b[39;49m\u001b[43mastype\u001b[49m\u001b[43m(\u001b[49m\u001b[43m)\u001b[49m)\n\u001b[0;32m      9\u001b[0m cleaned_data[\u001b[38;5;124m\"\u001b[39m\u001b[38;5;124mshifted_time\u001b[39m\u001b[38;5;124m\"\u001b[39m] \u001b[38;5;241m=\u001b[39m cleaned_data[\u001b[38;5;124m\"\u001b[39m\u001b[38;5;124mdatetime\u001b[39m\u001b[38;5;124m\"\u001b[39m] \u001b[38;5;241m+\u001b[39m pd\u001b[38;5;241m.\u001b[39mto_timedelta(\u001b[38;5;241m17\u001b[39m, unit \u001b[38;5;241m=\u001b[39m \u001b[38;5;124m'\u001b[39m\u001b[38;5;124mh\u001b[39m\u001b[38;5;124m'\u001b[39m)\n\u001b[0;32m     11\u001b[0m \u001b[38;5;66;03m#cleaned_data[\"shifted_time\"] = pd.to_datetime(cleaned_data[\"shifted_time\"]).dt.time\u001b[39;00m\n\u001b[0;32m     12\u001b[0m \n\u001b[0;32m     13\u001b[0m \u001b[38;5;66;03m# 2. Create a numerical column (minutes past midnight) for binning\u001b[39;00m\n",
      "\u001b[1;31mTypeError\u001b[0m: NDFrame.astype() missing 1 required positional argument: 'dtype'"
     ]
    }
   ],
   "source": [
    "# Lets classify timestamps by half hours\n",
    "\n",
    "# --- Main Logic ---\n",
    "\n",
    "# 1. Ensure the column is a proper time object)\n",
    "\n",
    "cleaned_data['datetime'] = pd.to_datetime(df['date'].astype(str) + ' ' + df['time'].astype())\n",
    "\n",
    "cleaned_data[\"shifted_time\"] = cleaned_data[\"datetime\"] + pd.to_timedelta(17, unit = 'h')\n",
    "\n",
    "#cleaned_data[\"shifted_time\"] = pd.to_datetime(cleaned_data[\"shifted_time\"]).dt.time\n",
    "\n",
    "# 2. Create a numerical column (minutes past midnight) for binning\n",
    "cleaned_data['minutes_past_midnight'] = cleaned_data['shifted_time'].apply(lambda t: t.hour * 60 + t.minute)\n",
    "\n",
    "# 3. Define the time intervals (bins) in 1 hour increments for a full day\n",
    "bins = range(0, 24 * 60 + 1, 60) \n",
    "\n",
    "# 4. Create labels for each interval (e.g., \"01:30-01:45\")\n",
    "labels = [f\"{i//60:02d}:00-{(i+60)//60:02d}:00\" for i in bins[:-1]]\n",
    "\n",
    "# 5. Create the new column using pd.cut\n",
    "cleaned_data['time_slot'] = pd.cut(cleaned_data['minutes_past_midnight'],\n",
    "                         bins=bins,\n",
    "                         labels=labels,\n",
    "                         right=False,      # Intervals are [left, right), e.g., includes 1:30 but not 1:45\n",
    "                         include_lowest=True)\n",
    "\n",
    "\n",
    "\n",
    "print(df[['time', 'time_slot',\"shifted_time_slot\"]].sort_values(\"time_slot\"))\n"
   ]
  },
  {
   "cell_type": "markdown",
   "id": "5a4296d7",
   "metadata": {},
   "source": [
    "#### Lets see the added column"
   ]
  },
  {
   "cell_type": "code",
   "execution_count": 79,
   "id": "aae03a01",
   "metadata": {},
   "outputs": [
    {
     "name": "stderr",
     "output_type": "stream",
     "text": [
      "C:\\Users\\abner\\AppData\\Local\\Temp\\ipykernel_22676\\3535579954.py:1: FutureWarning: The default of observed=False is deprecated and will be changed to True in a future version of pandas. Pass observed=False to retain current behavior or observed=True to adopt the future default and silence this warning.\n",
      "  sold_by_time = df.groupby(\"time_slot\")[\"receipt_number\"].count()\n"
     ]
    },
    {
     "data": {
      "text/plain": [
       "<Axes: xlabel='time_slot'>"
      ]
     },
     "execution_count": 79,
     "metadata": {},
     "output_type": "execute_result"
    },
    {
     "data": {
      "image/png": "[encoded data removed]",
      "text/plain": [
       "<Figure size 640x480 with 1 Axes>"
      ]
     },
     "metadata": {},
     "output_type": "display_data"
    }
   ],
   "source": [
    "sold_by_time = df.groupby(\"time_slot\")[\"receipt_number\"].count()\n",
    "\n",
    "sold_by_time.plot(kind=\"bar\")"
   ]
  }
 ],
 "metadata": {
  "kernelspec": {
   "display_name": "Python 3",
   "language": "python",
   "name": "python3"
  },
  "language_info": {
   "codemirror_mode": {
    "name": "ipython",
    "version": 3
   },
   "file_extension": ".py",
   "mimetype": "text/x-python",
   "name": "python",
   "nbconvert_exporter": "python",
   "pygments_lexer": "ipython3",
   "version": "3.11.9"
  }
 },
 "nbformat": 4,
 "nbformat_minor": 5
}
