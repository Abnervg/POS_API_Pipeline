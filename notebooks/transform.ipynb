{
 "cells": [
  {
   "cell_type": "markdown",
   "id": "cfc8dc7d",
   "metadata": {},
   "source": [
    "## Curate data"
   ]
  },
  {
   "cell_type": "markdown",
   "id": "fa6da2b0",
   "metadata": {},
   "source": [
    "#### Read json files"
   ]
  },
  {
   "cell_type": "code",
   "execution_count": 5,
   "id": "cc6565c7",
   "metadata": {},
   "outputs": [
    {
     "ename": "FileNotFoundError",
     "evalue": "[WinError 3] El sistema no puede encontrar la ruta especificada: 'c:\\\\Users\\\\abner\\\\Desktop\\\\POS_API_Pipeline\\\\notebooks\\\\data\\\\raw'",
     "output_type": "error",
     "traceback": [
      "\u001b[1;31m---------------------------------------------------------------------------\u001b[0m",
      "\u001b[1;31mFileNotFoundError\u001b[0m                         Traceback (most recent call last)",
      "Cell \u001b[1;32mIn[5], line 10\u001b[0m\n\u001b[0;32m      7\u001b[0m raw_dir   \u001b[38;5;241m=\u001b[39m os\u001b[38;5;241m.\u001b[39mpath\u001b[38;5;241m.\u001b[39mjoin(repo_root, \u001b[38;5;124m\"\u001b[39m\u001b[38;5;124mdata\u001b[39m\u001b[38;5;124m\"\u001b[39m, \u001b[38;5;124m\"\u001b[39m\u001b[38;5;124mraw\u001b[39m\u001b[38;5;124m\"\u001b[39m)\n\u001b[0;32m      9\u001b[0m \u001b[38;5;66;03m# List all files\u001b[39;00m\n\u001b[1;32m---> 10\u001b[0m all_files \u001b[38;5;241m=\u001b[39m \u001b[43mos\u001b[49m\u001b[38;5;241;43m.\u001b[39;49m\u001b[43mlistdir\u001b[49m\u001b[43m(\u001b[49m\u001b[43mraw_dir\u001b[49m\u001b[43m)\u001b[49m\n\u001b[0;32m     12\u001b[0m \u001b[38;5;66;03m# Filter for receipts and items JSON\u001b[39;00m\n\u001b[0;32m     13\u001b[0m receipt_files \u001b[38;5;241m=\u001b[39m [f \u001b[38;5;28;01mfor\u001b[39;00m f \u001b[38;5;129;01min\u001b[39;00m all_files \u001b[38;5;28;01mif\u001b[39;00m f\u001b[38;5;241m.\u001b[39mstartswith(\u001b[38;5;124m\"\u001b[39m\u001b[38;5;124mreceipts_\u001b[39m\u001b[38;5;124m\"\u001b[39m) \u001b[38;5;129;01mand\u001b[39;00m f\u001b[38;5;241m.\u001b[39mendswith(\u001b[38;5;124m\"\u001b[39m\u001b[38;5;124m.json\u001b[39m\u001b[38;5;124m\"\u001b[39m)]\n",
      "\u001b[1;31mFileNotFoundError\u001b[0m: [WinError 3] El sistema no puede encontrar la ruta especificada: 'c:\\\\Users\\\\abner\\\\Desktop\\\\POS_API_Pipeline\\\\notebooks\\\\data\\\\raw'"
     ]
    }
   ],
   "source": [
    "import os\n",
    "import json\n",
    "from pathlib import Path\n",
    "\n",
    "# Point to raw data folder\n",
    "repo_root = Path.cwd().parent if Path.cwd().name == \"notebook\" else Path.cwd()\n",
    "raw_dir   = os.path.join(repo_root, \"data\", \"raw\")\n",
    "\n",
    "# List all files\n",
    "all_files = os.listdir(raw_dir)\n",
    "\n",
    "# Filter for receipts and items JSON\n",
    "receipt_files = [f for f in all_files if f.startswith(\"receipts_\") and f.endswith(\".json\")]\n",
    "item_files = [f for f in all_files if f.startswith(\"items_\") and f.endswith(\".json\")] \n",
    "\n",
    "# Validate\n",
    "if not receipt_files:\n",
    "    raise FileNotFoundError(f\"No receipts_*.json found in {raw_dir}\")\n",
    "if not item_files:\n",
    "    raise FileNotFoundError(f\"No items_*.json found in {raw_dir}\")\n",
    "\n",
    "#Read the files \n",
    "receipt_filename = receipt_files[0]\n",
    "item_filename    = item_files[0]\n",
    "\n",
    "receipt_path = os.path.join(raw_dir, receipt_filename)\n",
    "item_path    = os.path.join(raw_dir, item_filename)\n",
    "\n",
    "print(\"→ Loading receipts from\", receipt_filename)\n",
    "print(\"→ Loading items    from\", item_filename)\n",
    "\n",
    "# Load them (with UTF-8)\n",
    "with open(receipt_path, \"r\", encoding=\"utf-8\") as f:\n",
    "    receipts = json.load(f)\n",
    "\n",
    "with open(item_path, \"r\", encoding=\"utf-8\") as f:\n",
    "    items = json.load(f)\n",
    "\n",
    "print(f\"✅ Loaded {len(receipts)} receipts, {len(items)} items\")\n"
   ]
  },
  {
   "cell_type": "markdown",
   "id": "b0e30a76",
   "metadata": {},
   "source": [
    "#### Create table with desired content"
   ]
  },
  {
   "cell_type": "code",
   "execution_count": 1,
   "id": "dfb9a021",
   "metadata": {},
   "outputs": [
    {
     "ename": "NameError",
     "evalue": "name 'receipts' is not defined",
     "output_type": "error",
     "traceback": [
      "\u001b[1;31m---------------------------------------------------------------------------\u001b[0m",
      "\u001b[1;31mNameError\u001b[0m                                 Traceback (most recent call last)",
      "Cell \u001b[1;32mIn[1], line 3\u001b[0m\n\u001b[0;32m      1\u001b[0m \u001b[38;5;66;03m#Transform into a flat table\u001b[39;00m\n\u001b[0;32m      2\u001b[0m rows \u001b[38;5;241m=\u001b[39m []\n\u001b[1;32m----> 3\u001b[0m \u001b[38;5;28;01mfor\u001b[39;00m r \u001b[38;5;129;01min\u001b[39;00m \u001b[43mreceipts\u001b[49m:\n\u001b[0;32m      4\u001b[0m     date_time \u001b[38;5;241m=\u001b[39m r[\u001b[38;5;124m\"\u001b[39m\u001b[38;5;124mreceipt_date\u001b[39m\u001b[38;5;124m\"\u001b[39m]\n\u001b[0;32m      5\u001b[0m     date, time_z \u001b[38;5;241m=\u001b[39m date_time\u001b[38;5;241m.\u001b[39msplit(\u001b[38;5;124m\"\u001b[39m\u001b[38;5;124mT\u001b[39m\u001b[38;5;124m\"\u001b[39m)\n",
      "\u001b[1;31mNameError\u001b[0m: name 'receipts' is not defined"
     ]
    }
   ],
   "source": [
    "#Transform into a flat table\n",
    "rows = []\n",
    "for r in receipts:\n",
    "    date_time = r[\"receipt_date\"]\n",
    "    date, time_z = date_time.split(\"T\")\n",
    "    time = time_z.rstrip(\"Z\")\n",
    "    payment_types = \";\".join(p[\"type\"] for p in r.get(\"payments\", []))\n",
    "\n",
    "    for line in r.get(\"line_items\", []):\n",
    "        mods = \";\".join(f\"{m['name']}({m['option']})\"\n",
    "                        for m in line.get(\"line_modifiers\", [])) or None\n",
    "\n",
    "        rows.append({\n",
    "            \"receipt_number\": r[\"receipt_number\"],\n",
    "            \"date\":           date,\n",
    "            \"time\":           time,\n",
    "            \"order_type\":     r.get(\"order\"),\n",
    "            \"item_name\":      line.get(\"item_name\"),\n",
    "            \"cost\":           line.get(\"cost\"),\n",
    "            \"modifiers\":      mods,\n",
    "            \"payment_type\":   payment_types\n",
    "        })\n",
    "\n",
    "df = pd.DataFrame(rows)\n",
    "print(df.head())"
   ]
  },
  {
   "cell_type": "markdown",
   "id": "87437cbd",
   "metadata": {},
   "source": [
    "### Quick analysis"
   ]
  },
  {
   "cell_type": "markdown",
   "id": "ad38ce49",
   "metadata": {},
   "source": []
  }
 ],
 "metadata": {
  "kernelspec": {
   "display_name": "Python 3",
   "language": "python",
   "name": "python3"
  },
  "language_info": {
   "codemirror_mode": {
    "name": "ipython",
    "version": 3
   },
   "file_extension": ".py",
   "mimetype": "text/x-python",
   "name": "python",
   "nbconvert_exporter": "python",
   "pygments_lexer": "ipython3",
   "version": "3.11.9"
  }
 },
 "nbformat": 4,
 "nbformat_minor": 5
}
