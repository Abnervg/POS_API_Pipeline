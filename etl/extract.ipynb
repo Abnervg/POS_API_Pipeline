{
 "cells": [
  {
   "cell_type": "markdown",
   "id": "fea6c8d5",
   "metadata": {},
   "source": [
    "## Connection to API and data extraction"
   ]
  },
  {
   "cell_type": "code",
   "execution_count": 41,
   "id": "edf97361",
   "metadata": {},
   "outputs": [],
   "source": [
    "import os\n",
    "import calendar, requests\n",
    "from datetime import datetime\n",
    "from pathlib import Path\n",
    "from dotenv import load_dotenv\n",
    "from pathlib import Path\n",
    "import json\n",
    "import pandas as pd"
   ]
  },
  {
   "cell_type": "code",
   "execution_count": 36,
   "id": "2140a679",
   "metadata": {},
   "outputs": [],
   "source": [
    "#Load config\n",
    "env = Path.cwd().parent/\"config\"/\"config.env\"\n",
    "load_dotenv(env, override=True)\n",
    "API_KEY  = os.getenv(\"POS_API_KEY\")\n",
    "BASE_URL = os.getenv(\"BASE_URL\")\n",
    "headers  = {\"Authorization\": f\"Bearer {API_KEY}\"}"
   ]
  },
  {
   "cell_type": "code",
   "execution_count": null,
   "id": "4cc45ce3",
   "metadata": {},
   "outputs": [
    {
     "name": "stdout",
     "output_type": "stream",
     "text": [
      "2025-07-01T00:00:00.000Z 2025-07-31T23:59:59.000Z\n"
     ]
    }
   ],
   "source": [
    "#Bounds\n",
    "#Formating date for requests \n",
    "\n",
    "now = datetime.utcnow() #UTC\n",
    "\n",
    "# first instant of month\n",
    "first = now.replace(day=1, hour=0, minute=0, second=0, microsecond=0)\n",
    "# last instant of month\n",
    "last_day = calendar.monthrange(now.year, now.month)[1]\n",
    "last     = now.replace(day=last_day, hour=23, minute=59, second=59, microsecond=0)\n",
    "\n",
    "#Include '.sss' milliseconds\n",
    "created_min = first.isoformat(timespec=\"milliseconds\") + \"Z\"\n",
    "created_max = last.isoformat(timespec=\"milliseconds\")  + \"Z\"\n",
    "\n",
    "print(created_min, created_max)"
   ]
  },
  {
   "cell_type": "code",
   "execution_count": 39,
   "id": "917011b3",
   "metadata": {},
   "outputs": [
    {
     "name": "stdout",
     "output_type": "stream",
     "text": [
      "Status: 200\n",
      "Receipts status: 200 application/json\n",
      "→ Got receipts: 50\n",
      "Items status: 200 application/json\n",
      "→ Got items: 23\n"
     ]
    }
   ],
   "source": [
    "#Request for the time bound receipts\n",
    "r = requests.get(f\"{BASE_URL}/receipts?\",\n",
    "                 headers=headers,\n",
    "                 params={\"created_at_min\": created_min, \"created_at_max\": created_max})\n",
    "print(\"Status:\", r.status_code)\n",
    "print(\"Receipts status:\", r.status_code, r.headers.get(\"Content-Type\"))\n",
    "receipts = r.json().get(\"receipts\", [])\n",
    "print(\"→ Got receipts:\", len(receipts))\n",
    "\n",
    "#Request for items\n",
    "i = requests.get(f\"{BASE_URL}/items\", headers=headers)\n",
    "print(\"Items status:\", i.status_code, i.headers.get(\"Content-Type\"))\n",
    "items = i.json().get(\"items\", [])\n",
    "print(\"→ Got items:\", len(items))\n"
   ]
  },
  {
   "cell_type": "markdown",
   "id": "8a9281f1",
   "metadata": {},
   "source": [
    "#### Save the data"
   ]
  },
  {
   "cell_type": "code",
   "execution_count": null,
   "id": "fa263136",
   "metadata": {},
   "outputs": [
    {
     "name": "stdout",
     "output_type": "stream",
     "text": [
      "→ Wrote 50 raw receipts to c:\\Users\\abner\\Desktop\\POS_API_Pipeline\\data\\raw\\receipts_2025-07.json\n",
      "→ Wrote 23 items to c:\\Users\\abner\\Desktop\\POS_API_Pipeline\\data\\raw\\items.json\n"
     ]
    }
   ],
   "source": [
    "# 1️⃣ Add data folders path\n",
    "repo_root = Path.cwd().parent\n",
    "raw_dir   = repo_root / \"data\" / \"raw\"\n",
    "cur_dir   = repo_root / \"data\" / \"curated\"\n",
    "\n",
    "# 2️⃣ Create them if they don’t exist\n",
    "raw_dir.mkdir(parents=True, exist_ok=True)\n",
    "cur_dir.mkdir(parents=True, exist_ok=True)\n",
    "\n",
    "# 3️⃣ Save raw receipts JSON\n",
    "receipts_path = raw_dir / f\"receipts_{created_min[:7]}.json\"\n",
    "with receipts_path.open(\"w\", encoding=\"utf-8\") as f:\n",
    "    json.dump(receipts, f, ensure_ascii=False, indent=2)\n",
    "print(f\"→ Wrote {len(receipts)} raw receipts to {receipts_path}\")\n",
    "\n",
    "# 4️⃣ Save raw items JSON (optional)\n",
    "items_path = raw_dir / f\"items_{created_min[:7]}.json\"\n",
    "with items_path.open(\"w\", encoding=\"utf-8\") as f:\n",
    "    json.dump(items, f, ensure_ascii=False, indent=2)\n",
    "print(f\"→ Wrote {len(items)} items to {items_path}\")\n"
   ]
  }
 ],
 "metadata": {
  "kernelspec": {
   "display_name": "Python 3",
   "language": "python",
   "name": "python3"
  },
  "language_info": {
   "codemirror_mode": {
    "name": "ipython",
    "version": 3
   },
   "file_extension": ".py",
   "mimetype": "text/x-python",
   "name": "python",
   "nbconvert_exporter": "python",
   "pygments_lexer": "ipython3",
   "version": "3.11.9"
  }
 },
 "nbformat": 4,
 "nbformat_minor": 5
}
